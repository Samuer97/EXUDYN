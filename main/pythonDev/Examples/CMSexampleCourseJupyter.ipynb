{
 "cells": [
  {
   "cell_type": "code",
   "execution_count": 1,
   "metadata": {},
   "outputs": [],
   "source": [
    "#+++++++++++++++++++++++++++++++++++++++++++++++++++++++++++++++++++++++++++++\n",
    "# This is an EXUDYN example\n",
    "#\n",
    "# Details:  Create flexible multibody system\n",
    "#\n",
    "# Author:   Johannes Gerstmayr \n",
    "# Date:     2021-09-10\n",
    "# Update:   2024-05-14\n",
    "# Copyright:This file is part of Exudyn. Exudyn is free software. You can redistribute it and/or modify it under the terms of the Exudyn license. See 'LICENSE.txt' for more details.\n",
    "#\n",
    "# pip install webgui_jupyter_widgets\n",
    "# pip install ngsolve\n",
    "#+++++++++++++++++++++++++++++++++++++++++++++++++++++++++++++++++++++++++++++"
   ]
  },
  {
   "cell_type": "markdown",
   "metadata": {},
   "source": [
    "# Important modules to be imported"
   ]
  },
  {
   "cell_type": "code",
   "execution_count": 2,
   "metadata": {},
   "outputs": [],
   "source": [
    "import exudyn as exu\n",
    "from exudyn.utilities import *\n",
    "from exudyn.FEM import *\n",
    "import numpy as np\n",
    "from math import sqrt, sin, cos, pi\n",
    "\n",
    "doMeshing = True #set false if mesh shall be loaded\n",
    "computeStresses = True\n",
    "useHCBmodes = True \n",
    "useRoundings = False\n",
    "\n",
    "fileName = 'testData/FMBStest1' #for load/save of FEM data"
   ]
  },
  {
   "cell_type": "markdown",
   "metadata": {},
   "source": [
    "# Parameter Definition\n",
    "![example geometry](CMSexampleCourseBody.png \"Geometry\")"
   ]
  },
  {
   "cell_type": "code",
   "execution_count": 3,
   "metadata": {},
   "outputs": [],
   "source": [
    "#flexible body dimensions:\n",
    "femInterface = FEMinterface()\n",
    "#geometrical parameters\n",
    "ri = 0.010 #radius of hole/bolt\n",
    "ra = 0.016 #outer radius\n",
    "t  = 0.020 #part thickness, bolt length\n",
    "f  = 0.004 #radius of part rounding\n",
    "f2 = 0.002 #radius of bolt rounding\n",
    "L = 0.250  #distance hole/bolt\n",
    "\n",
    "hp = ra*sqrt(0.5)-f*(1-sqrt(0.5)) #height of bar\n",
    "d1 = (ra+1*f)*sqrt(0.5) #length of rounded part\n",
    "L1 = L-2*d1 #length of rectangular section\n",
    "\n",
    "#number of eigenmodes\n",
    "nModes = 8\n",
    "\n",
    "rho = 1000\n",
    "Emodulus=1e8\n",
    "nu=0.3\n"
   ]
  },
  {
   "cell_type": "markdown",
   "metadata": {},
   "source": [
    "# Create FEM mesh in Netgen"
   ]
  },
  {
   "cell_type": "code",
   "execution_count": 4,
   "metadata": {
    "scrolled": true
   },
   "outputs": [
    {
     "data": {
      "application/vnd.jupyter.widget-view+json": {
       "model_id": "ee3b1637415f46ca843084625d7e81bc",
       "version_major": 2,
       "version_minor": 0
      },
      "text/plain": [
       "WebGuiWidget(layout=Layout(height='50vh', width='100%'), value={'gui_settings': {}, 'ngsolve_version': '6.2.24…"
      ]
     },
     "metadata": {},
     "output_type": "display_data"
    }
   ],
   "source": [
    "if doMeshing: #needs netgen/ngsolve to be installed to compute mesh, see e.g.: https://github.com/NGSolve/ngsolve/releases\n",
    "\n",
    "    import sys\n",
    "\n",
    "    from netgen.occ import *\n",
    "    #from ngsolve.webgui import Draw #in Jupyter\n",
    "    from ngsolve import Mesh, Draw\n",
    "\n",
    "    #create part geometry\n",
    "    wp = WorkPlane(gp_Ax3(p=(0,0,-1.5*t), n=Z, h=X))\n",
    "\n",
    "    wp.Rotate(90).MoveTo(-ra,0).Arc(ra,-135).Arc(f,45).Line(0.5*L1).Line(0.5*L1).Arc(f,45).Arc(ra,-135)\n",
    "    wp.Arc(ra,-135).Arc(f,45).Line(L1).Arc(f,45).Arc(ra,-135)\n",
    "    wp.Close().Reverse()\n",
    "\n",
    "    p1 = wp.Face().Extrude(t)\n",
    "    \n",
    "    #bolt:\n",
    "    wp2 = WorkPlane(Axes(p=(0,0,-0.5*t), n=X, h=Y))\n",
    "    f22 = np.sqrt(2)*f2\n",
    "    if useRoundings:\n",
    "        wp2.MoveTo(0,0).Line(ri+f2).Rotate(180).Arc(f2,-90).Line(t-2*f2).Rotate(45).Line(f22).Rotate(45).Line(ri-f2).Rotate(90).Line(t).Close() #with rounding+chamfer\n",
    "    else:\n",
    "        wp2.MoveTo(0,0).LineTo(ri,0).LineTo(ri,t).LineTo(0,t).LineTo(0,0) #without rounding\n",
    "    axis2 = Axis((0,0,0),Z)\n",
    "    p2 = wp2.Face().Revolve(axis2,360)\n",
    "\n",
    "    #hole:\n",
    "    wp3 = WorkPlane(Axes(p=(L,0,-1.5*t), n=X, h=Y))\n",
    "    if useRoundings:\n",
    "        wp3.MoveTo(0,0).Line(ri+f2).Rotate(135).Line(f22).Rotate(-45).Line(t-2*f2).Rotate(-45).Line(f22).Rotate(135).Line(ri+f2).Rotate(90).Line(t).Close() #with rounding\n",
    "    else:\n",
    "        wp3.MoveTo(0,0).LineTo(ri,0).LineTo(ri,t).LineTo(0,t).LineTo(0,0) #without rounding\n",
    "    axis3 = Axis((L,0,0),Z)\n",
    "    p3 = wp3.Face().Revolve(axis3,360)\n",
    "    \n",
    "    p1 = p1 + p2\n",
    "    p1 = p1 - p3\n",
    "\n",
    "    geo = OCCGeometry( p1 )\n",
    "\n",
    "    #Jupyter, webgui, draw geometry\n",
    "    #NEEDS: pip install webgui_jupyter_widgets\n",
    "    from netgen.webgui import Draw as DrawGeo\n",
    "    #DrawGeo(geo.shape) #uncomment to show only geometry\n",
    "    \n",
    "    #generate mesh:\n",
    "    from ngsolve.webgui import Draw\n",
    "    mesh = Mesh(geo.GenerateMesh(maxh=1.5*2*f2))\n",
    "    #Jupyter, webgui, draw mesh\n",
    "    Draw(mesh)\n",
    "\n",
    "\n"
   ]
  },
  {
   "cell_type": "markdown",
   "metadata": {},
   "source": [
    "# Import mesh into Exudyn"
   ]
  },
  {
   "cell_type": "code",
   "execution_count": 5,
   "metadata": {
    "scrolled": true
   },
   "outputs": [
    {
     "name": "stdout",
     "output_type": "stream",
     "text": [
      "number of nodes =  1373\n"
     ]
    }
   ],
   "source": [
    "SC = exu.SystemContainer()\n",
    "mbs = SC.AddSystem()\n",
    "\n",
    "[bfM, bfK,fes] = femInterface.ImportMeshFromNGsolve(mesh, density=rho, youngsModulus=Emodulus, \n",
    "                                                    poissonsRatio=nu, \n",
    "                                                    meshOrder=1) #use meshOrder=2 for higher stress accuracy\n",
    "print(\"number of nodes = \", femInterface.NumberOfNodes())"
   ]
  },
  {
   "cell_type": "markdown",
   "metadata": {},
   "source": [
    "# Compute eigenmodes (not needed lateron)"
   ]
  },
  {
   "cell_type": "code",
   "execution_count": 6,
   "metadata": {},
   "outputs": [],
   "source": [
    "# femInterface.ComputeEigenmodesNGsolve(nModes, excludeRigidBodyModes = 6, useSparseSolver = True)\n",
    "femInterface.ComputeEigenmodesNGsolve (bfM, bfK, nModes, maxEigensolveIterations= 20, excludeRigidBodyModes= 6, verbose= False)\n",
    "if False: #activate to animate modes\n",
    "    from exudyn.interactive import AnimateModes\n",
    "    mbs.Reset()\n",
    "    cms = ObjectFFRFreducedOrderInterface(femInterface)\n",
    "\n",
    "    objFFRF = cms.AddObjectFFRFreducedOrder(mbs, positionRef=[0,0,0], \n",
    "                                                  initialVelocity=[0,0,0], \n",
    "                                                  initialAngularVelocity=[0,0,0],\n",
    "                                                  color=[0.1,0.9,0.1,1.],\n",
    "                                                  )\n",
    "    mbs.Assemble()\n",
    "    SC.visualizationSettings.nodes.show = False\n",
    "    SC.visualizationSettings.openGL.showFaceEdges = True\n",
    "    SC.visualizationSettings.openGL.multiSampling=4\n",
    "    SC.visualizationSettings.openGL.lineWidth=2\n",
    "    SC.visualizationSettings.window.renderWindowSize = [1600,1080]\n",
    "\n",
    "    #%%+++++++++++++++++++++++++++++++++++++++\n",
    "    SC.visualizationSettings.general.autoFitScene = False #otherwise, model may be difficult to be moved\n",
    "\n",
    "    nodeNumber = objFFRF['nGenericODE2'] #this is the node with the generalized coordinates\n",
    "    AnimateModes(SC, mbs, nodeNumber, period=0.1, \n",
    "                 scaleAmplitude = 0.02,\n",
    "                 showTime=False, renderWindowText='Show modes\\n',\n",
    "                 runOnStart=True)"
   ]
  },
  {
   "cell_type": "markdown",
   "metadata": {},
   "source": [
    "# Define interfaces"
   ]
  },
  {
   "cell_type": "code",
   "execution_count": 7,
   "metadata": {},
   "outputs": [
    {
     "name": "stdout",
     "output_type": "stream",
     "text": [
      "pMid= [0.125, 0.010142135623730952, -0.01] , nMid= 251\n",
      "pTip= [0.266, 0, -0.01] , nTip= 279\n"
     ]
    }
   ],
   "source": [
    "pLeft = [0,0,0] #midpoint of bolt\n",
    "pRight = [L,0,-t] #midpoint of hole\n",
    "pMid = [0.5*L,hp,-0.5*t] #midpoint of bar\n",
    "pTip = [L+ra,0,-0.5*t] #midpoint of bar\n",
    "\n",
    "nMid = femInterface.GetNodeAtPoint(pMid, tolerance=0.01) #tip node (do not use midpoint, as this may not be a mesh node ...)\n",
    "print(\"pMid=\",pMid,\", nMid=\",nMid)\n",
    "nTip = femInterface.GetNodeAtPoint(pTip, tolerance=0.01) #tip node (do not use midpoint, as this may not be a mesh node ...)\n",
    "print(\"pTip=\",pTip,\", nTip=\",nTip)\n",
    "\n",
    "tV = np.array([0,0,0.5*t])\n",
    "nodesLeft = femInterface.GetNodesOnCylinder(pLeft-tV, pLeft+tV, ri)\n",
    "#print('nodesLeft=',nodesLeft)\n",
    "nodesRight = femInterface.GetNodesOnCylinder(pRight-tV, pRight+tV, ri)\n",
    "#print('nodesRight=',nodesRight)\n",
    "\n",
    "lenNodesLeft = len(nodesLeft)\n",
    "weightsNodesLeft = np.array((1./lenNodesLeft)*np.ones(lenNodesLeft))\n",
    "\n",
    "lenNodesRight = len(nodesRight)\n",
    "weightsNodesRight = np.array((1./lenNodesRight)*np.ones(lenNodesRight))\n",
    "\n",
    "boundaryList = [nodesLeft, nodesRight] #second boudary (right plane) not needed ...\n"
   ]
  },
  {
   "cell_type": "markdown",
   "metadata": {},
   "source": [
    "# Compute eigenmodes"
   ]
  },
  {
   "cell_type": "code",
   "execution_count": 8,
   "metadata": {},
   "outputs": [
    {
     "name": "stdout",
     "output_type": "stream",
     "text": [
      "compute modes... \n",
      "computation of modes needed 0.157 seconds\n",
      "eigen freq.= [119.97471972 123.13315618 316.73801677 325.41647046 470.21896085\n",
      " 571.42154893 596.21024387 650.23906849]\n"
     ]
    }
   ],
   "source": [
    "#remark: ComputeEigenmodes requires upgrade of scipy (python -m pip install --upgrade scipy) as compared to Anaconda installation...\n",
    "import time\n",
    "useHCBmodes = True #Hurty-Craig-Bampton modes\n",
    "\n",
    "print(\"compute modes... \")\n",
    "start_time = time.time()\n",
    "\n",
    "if useHCBmodes:\n",
    "     femInterface.ComputeHurtyCraigBamptonModes(boundaryNodesList=boundaryList, \n",
    "                                   nEigenModes=nModes, \n",
    "                                   useSparseSolver=True,\n",
    "                                   computationMode = HCBstaticModeSelection.RBE2)\n",
    "#     femInterface.ComputeHurtyCraigBamptonModesNGsolve(bfM, bfK, boundaryNodesList=boundaryList, \n",
    "#                                          nEigenModes=nModes, maxEigensolveIterations=20, verbose= True)\n",
    "else:\n",
    "    #femInterface.ComputeEigenmodes(nModes, excludeRigidBodyModes = 6, useSparseSolver = True)\n",
    "    femInterface.ComputeEigenmodesNGsolve(bfK=bfK,bfM=bfM, nModes=nModes, excludeRigidBodyModes = 6)\n",
    "\n",
    "print(\"computation of modes needed %.3f seconds\" % (time.time() - start_time))\n",
    "print(\"eigen freq.=\", femInterface.GetEigenFrequenciesHz())\n",
    "\n",
    "\n",
    "\n"
   ]
  },
  {
   "cell_type": "markdown",
   "metadata": {},
   "source": [
    "# Compute stresses"
   ]
  },
  {
   "cell_type": "code",
   "execution_count": 9,
   "metadata": {},
   "outputs": [
    {
     "name": "stdout",
     "output_type": "stream",
     "text": [
      "ComputePostProcessingModes ... (may take a while)\n"
     ]
    }
   ],
   "source": [
    "femModesName = fileName+'modes'\n",
    "if useHCBmodes:\n",
    "    femModesName+='HCB'\n",
    "\n",
    "varType = exu.OutputVariableType.StressLocal\n",
    "\n",
    "if computeStresses:\n",
    "    mat = KirchhoffMaterial(Emodulus, nu, rho)\n",
    "    print(\"ComputePostProcessingModes ... (may take a while)\")\n",
    "    start_time = time.time()\n",
    "    femInterface.ComputePostProcessingModesNGsolve (fes, material=mat)\n",
    "    SC.visualizationSettings.contour.reduceRange=False\n",
    "    SC.visualizationSettings.contour.outputVariable = varType\n",
    "    SC.visualizationSettings.contour.outputVariableComponent = 0 #x-component\n",
    "    #save modes + stresses\n",
    "    femInterface.SaveToFile(femModesName)\n",
    "else:\n",
    "    femInterface.LoadFromFile(femModesName)\n",
    "    SC.visualizationSettings.contour.outputVariable = varType\n",
    "    SC.visualizationSettings.contour.outputVariableComponent = 0 #x-component\n"
   ]
  },
  {
   "cell_type": "markdown",
   "metadata": {},
   "source": [
    "# Setup flexible body in exudyn"
   ]
  },
  {
   "cell_type": "code",
   "execution_count": 10,
   "metadata": {},
   "outputs": [],
   "source": [
    "cms = ObjectFFRFreducedOrderInterface(femInterface)\n",
    "\n",
    "objFFRF = cms.AddObjectFFRFreducedOrder(mbs, positionRef=[0,0,0], \n",
    "                                              initialVelocity=[0,0,0], \n",
    "                                              initialAngularVelocity=[0,0,0],\n",
    "                                              color=[0.1,0.9,0.1,1.],\n",
    "                                              )"
   ]
  },
  {
   "cell_type": "markdown",
   "metadata": {},
   "source": [
    "# Visualize modes"
   ]
  },
  {
   "cell_type": "code",
   "execution_count": 11,
   "metadata": {
    "scrolled": true
   },
   "outputs": [],
   "source": [
    "if True:\n",
    "    from exudyn.interactive import AnimateModes\n",
    "    mbs.Assemble()\n",
    "    SC.visualizationSettings.nodes.show = False\n",
    "    SC.visualizationSettings.openGL.showFaceEdges = True\n",
    "    SC.visualizationSettings.openGL.multiSampling=4\n",
    "    #SC.visualizationSettings.window.renderWindowSize = [1600,1080]\n",
    "    SC.visualizationSettings.general.autoFitScene = False #otherwise, model may be difficult to be moved\n",
    "\n",
    "    nodeNumber = objFFRF['nGenericODE2'] #this is the node with the generalized coordinates\n",
    "    AnimateModes(SC, mbs, nodeNumber, scaleAmplitude = 0.1, runOnStart = True)\n"
   ]
  },
  {
   "cell_type": "markdown",
   "metadata": {},
   "source": [
    "# Add gravity"
   ]
  },
  {
   "cell_type": "code",
   "execution_count": 12,
   "metadata": {},
   "outputs": [
    {
     "data": {
      "text/plain": [
       "0"
      ]
     },
     "execution_count": 12,
     "metadata": {},
     "output_type": "execute_result"
    }
   ],
   "source": [
    "#add gravity (not necessary if user functions used)\n",
    "oFFRF = objFFRF['oFFRFreducedOrder']\n",
    "mBody = mbs.AddMarker(MarkerBodyMass(bodyNumber=oFFRF))\n",
    "mbs.AddLoad(LoadMassProportional(markerNumber=mBody, loadVector= [0,-9.81,0]))"
   ]
  },
  {
   "cell_type": "markdown",
   "metadata": {},
   "source": [
    "# Add joint constraint"
   ]
  },
  {
   "cell_type": "code",
   "execution_count": 13,
   "metadata": {},
   "outputs": [
    {
     "name": "stdout",
     "output_type": "stream",
     "text": [
      "jointOffset= [ 4.25422085e-05 -2.32548186e-04  3.43873720e-05]\n",
      "jointOffset= [ 1.35525272e-19  1.08420217e-19 -1.15955884e-19]\n"
     ]
    }
   ],
   "source": [
    "#%%+++++++++++++++++++++++++++++++++++++++++++++++++++++\n",
    "#add markers and joints\n",
    "\n",
    "oGround = mbs.AddObject(ObjectGround(referencePosition = [0,0,0]))\n",
    "mGround = mbs.AddMarker(MarkerBodyRigid(bodyNumber = oGround, \n",
    "                                        localPosition = pLeft))\n",
    "\n",
    "mLeft = mbs.AddMarker(MarkerSuperElementRigid(bodyNumber=objFFRF['oFFRFreducedOrder'], \n",
    "                                              meshNodeNumbers=np.array(nodesLeft), #these are the meshNodeNumbers\n",
    "                                              weightingFactors=weightsNodesLeft))\n",
    "oJoint = mbs.AddObject(GenericJoint(markerNumbers=[mGround, mLeft], \n",
    "                           constrainedAxes = [1,1,1,1,1,0],\n",
    "                           visualization=VGenericJoint(axesRadius=0.05*ri, axesLength=1.5*t)))\n",
    "\n",
    "#compensate joint offset:\n",
    "if True:\n",
    "    mbs.Assemble() #initialize system to compute joint offset\n",
    "    jointOffset = mbs.GetObjectOutput(oJoint,exu.OutputVariableType.DisplacementLocal)\n",
    "    print('jointOffset=',jointOffset)\n",
    "\n",
    "    mbs.SetMarkerParameter(mLeft.GetIndex(), 'offset', list(-jointOffset)) #compensate offset; mLeft.GetIndex() because of BUG751\n",
    "\n",
    "    mbs.Assemble() #initialize system to compute joint offset\n",
    "    jointOffset = mbs.GetObjectOutput(oJoint,exu.OutputVariableType.DisplacementLocal)\n",
    "    print('jointOffset=',jointOffset)\n"
   ]
  },
  {
   "cell_type": "code",
   "execution_count": 14,
   "metadata": {},
   "outputs": [
    {
     "data": {
      "text/plain": [
       "2"
      ]
     },
     "execution_count": 14,
     "metadata": {},
     "output_type": "execute_result"
    }
   ],
   "source": [
    "mLeft"
   ]
  },
  {
   "cell_type": "markdown",
   "metadata": {},
   "source": [
    "# Add sensors"
   ]
  },
  {
   "cell_type": "code",
   "execution_count": 15,
   "metadata": {},
   "outputs": [],
   "source": [
    "fileDir = 'solution/'\n",
    "sMidDispl = mbs.AddSensor(SensorSuperElement(bodyNumber=objFFRF['oFFRFreducedOrder'], \n",
    "                          meshNodeNumber=nMid, #meshnode number!\n",
    "                          fileName=fileDir+'uMid'+str(nModes)+'modes.txt', \n",
    "                          outputVariableType = exu.OutputVariableType.Displacement))\n",
    "sTipDispl = mbs.AddSensor(SensorSuperElement(bodyNumber=objFFRF['oFFRFreducedOrder'], \n",
    "                          meshNodeNumber=nTip, #meshnode number!\n",
    "                          fileName=fileDir+'uTip'+str(nModes)+'modes.txt', \n",
    "                          outputVariableType = exu.OutputVariableType.Displacement))"
   ]
  },
  {
   "cell_type": "markdown",
   "metadata": {},
   "source": [
    "# Set up visualization\n",
    "(not needed)"
   ]
  },
  {
   "cell_type": "code",
   "execution_count": 16,
   "metadata": {},
   "outputs": [],
   "source": [
    "nodeDrawSize = 0.0025 #for joint drawing\n",
    "SC.visualizationSettings.nodes.defaultSize = nodeDrawSize\n",
    "SC.visualizationSettings.nodes.drawNodesAsPoint = False\n",
    "SC.visualizationSettings.connectors.defaultSize = nodeDrawSize\n",
    "\n",
    "SC.visualizationSettings.nodes.show = False\n",
    "SC.visualizationSettings.nodes.showBasis = True #of rigid body node of reference frame\n",
    "SC.visualizationSettings.nodes.basisSize = t*4\n",
    "SC.visualizationSettings.bodies.deformationScaleFactor = 1 #use this factor to scale the deformation of modes\n",
    "\n",
    "SC.visualizationSettings.openGL.showFaceEdges = True\n",
    "SC.visualizationSettings.openGL.showFaces = True\n",
    "\n",
    "SC.visualizationSettings.sensors.show = True\n",
    "SC.visualizationSettings.sensors.drawSimplified = False\n",
    "SC.visualizationSettings.sensors.defaultSize = nodeDrawSize*2\n",
    "SC.visualizationSettings.markers.drawSimplified = False\n",
    "SC.visualizationSettings.markers.show = False\n",
    "SC.visualizationSettings.markers.defaultSize = nodeDrawSize*2\n",
    "\n",
    "SC.visualizationSettings.loads.drawSimplified = False\n",
    "SC.visualizationSettings.loads.defaultSize = t*3\n",
    "SC.visualizationSettings.loads.defaultRadius = 0.05*t\n",
    "\n",
    "SC.visualizationSettings.window.renderWindowSize=[1280,720]\n",
    "SC.visualizationSettings.openGL.multiSampling = 4\n",
    "\n",
    "#create animation:\n",
    "# simulationSettings.solutionSettings.recordImagesInterval = 0.005\n",
    "# SC.visualizationSettings.exportImages.saveImageFileName = \"animation/frame\"\n"
   ]
  },
  {
   "cell_type": "markdown",
   "metadata": {},
   "source": [
    "# Set up simulation"
   ]
  },
  {
   "cell_type": "code",
   "execution_count": 17,
   "metadata": {},
   "outputs": [],
   "source": [
    "mbs.Assemble() #initialize bodies, assemble system; necessary to simulate\n",
    "\n",
    "simulationSettings = exu.SimulationSettings()\n",
    "simulationSettings.solutionSettings.solutionInformation = \"ObjectFFRFreducedOrder test\"\n",
    "\n",
    "h=1e-3\n",
    "tEnd = 2\n",
    "\n",
    "simulationSettings.timeIntegration.numberOfSteps = int(tEnd/h)\n",
    "simulationSettings.timeIntegration.endTime = tEnd\n",
    "simulationSettings.solutionSettings.writeSolutionToFile = True\n",
    "simulationSettings.solutionSettings.solutionWritePeriod = h\n",
    "simulationSettings.timeIntegration.verboseMode = 1\n",
    "#simulationSettings.timeIntegration.verboseModeFile = 3\n",
    "simulationSettings.timeIntegration.newton.useModifiedNewton = True\n",
    "\n",
    "simulationSettings.solutionSettings.sensorsWritePeriod = h\n",
    "\n",
    "simulationSettings.timeIntegration.generalizedAlpha.spectralRadius = 0.8\n",
    "#simulationSettings.displayStatistics = True\n",
    "simulationSettings.displayComputationTime = True\n"
   ]
  },
  {
   "cell_type": "markdown",
   "metadata": {},
   "source": [
    "# Start renderer and Simulate"
   ]
  },
  {
   "cell_type": "code",
   "execution_count": 18,
   "metadata": {},
   "outputs": [
    {
     "name": "stdout",
     "output_type": "stream",
     "text": [
      "+++++++++++++++++++++++++++++++\n",
      "EXUDYN V1.8.39.dev1 solver: implicit second order time integration\n",
      "STEP1168, t = 1.168s, timeToGo = 1.42566s, Nit/step = 5.97089\n",
      "STEP1837, t = 1.837s, timeToGo = 0.355078s, Nit/step = 6.10762\n",
      "STEP2000, t = 2s, timeToGo = 2.54907e-13s, Nit/step = 5.98773\n",
      "solver finished after 4.65733 seconds.\n",
      "====================\n",
      "CPU-time statistics:\n",
      "  total time   = 4.66 seconds\n",
      "  measured time= 4.64 seconds (=99.7%) \n",
      "  non-zero timer [__ sub-timer]:\n",
      "  factorization     = 0.144%\n",
      "  newtonIncrement   = 0.446%\n",
      "  integrationFormula= 0.0534%\n",
      "  ODE2RHS           = 5.91%\n",
      "  ODE1RHS           = 0.013%\n",
      "  AERHS             = 26.9%\n",
      "  totalJacobian     = 4.5%\n",
      "  __jacobianODE2    = 3.57%\n",
      "  __jacobianODE1    = 0.00141%\n",
      "  __jacobianAE      = 0.919%\n",
      "  massMatrix        = 3.54%\n",
      "  reactionForces    = 53.5%\n",
      "  writeSolution     = 4.99%\n",
      "  overhead          = 0.0325%\n",
      "  visualization/user= 0.00365%\n",
      "nModes= 8 , mid displacement= [ 1.17156032e-04 -1.75044632e-03 -7.09745594e-08]\n"
     ]
    }
   ],
   "source": [
    "lifeVisualization = False\n",
    "\n",
    "if lifeVisualization:\n",
    "    SC.visualizationSettings.general.autoFitScene=False #if reloaded view settings\n",
    "    exu.StartRenderer()\n",
    "    if 'renderState' in exu.sys: SC.SetRenderState(exu.sys['renderState']) #load last model view\n",
    "    mbs.WaitForUserToContinue() #press space to continue\n",
    "        \n",
    "exu.SolveDynamic(mbs, #solverType=exu.DynamicSolverType.TrapezoidalIndex2, \n",
    "                  simulationSettings=simulationSettings)\n",
    "            \n",
    "uTip = mbs.GetSensorValues(sMidDispl)\n",
    "print(\"nModes=\", nModes, \", mid displacement=\", uTip)\n",
    "\n",
    "if lifeVisualization:\n",
    "    SC.WaitForRenderEngineStopFlag()\n",
    "    exu.StopRenderer() #safely close rendering window!\n"
   ]
  },
  {
   "cell_type": "markdown",
   "metadata": {},
   "source": [
    "# 3D rendering of FMBS"
   ]
  },
  {
   "cell_type": "code",
   "execution_count": 19,
   "metadata": {},
   "outputs": [
    {
     "name": "stdout",
     "output_type": "stream",
     "text": [
      "columns imported = [21, 21, 21, 0, 0, 7, 0]\n",
      "total columns to be imported = 70 , array size of file = 71\n"
     ]
    }
   ],
   "source": [
    "if True: #use this to reload the solution and use SolutionViewer\n",
    "    SC.visualizationSettings.general.autoFitScene=False #if reloaded view settings\n",
    "\n",
    "    mbs.SolutionViewer() #can also be entered in IPython ...\n"
   ]
  },
  {
   "cell_type": "markdown",
   "metadata": {},
   "source": [
    "# Plot sensor"
   ]
  },
  {
   "cell_type": "code",
   "execution_count": 21,
   "metadata": {},
   "outputs": [
    {
     "data": {
      "image/png": "[encoded data removed]",
      "text/plain": [
       "<Figure size 640x480 with 1 Axes>"
      ]
     },
     "metadata": {},
     "output_type": "display_data"
    }
   ],
   "source": [
    "if True:\n",
    "    mbs.PlotSensor(sensorNumbers=[sMidDispl,sMidDispl,sMidDispl], components=[0,1,2])"
   ]
  },
  {
   "cell_type": "code",
   "execution_count": null,
   "metadata": {},
   "outputs": [],
   "source": []
  }
 ],
 "metadata": {
  "kernelspec": {
   "display_name": "Python 3 (ipykernel)",
   "language": "python",
   "name": "python3"
  },
  "language_info": {
   "codemirror_mode": {
    "name": "ipython",
    "version": 3
   },
   "file_extension": ".py",
   "mimetype": "text/x-python",
   "name": "python",
   "nbconvert_exporter": "python",
   "pygments_lexer": "ipython3",
   "version": "3.11.8"
  }
 },
 "nbformat": 4,
 "nbformat_minor": 4
}
